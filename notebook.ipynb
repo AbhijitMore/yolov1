{
 "cells": [
  {
   "cell_type": "markdown",
   "metadata": {},
   "source": [
    "# Import Libraries"
   ]
  },
  {
   "cell_type": "code",
   "execution_count": 4,
   "metadata": {},
   "outputs": [],
   "source": [
    "import torch\n",
    "import torch.nn as nn"
   ]
  },
  {
   "cell_type": "markdown",
   "metadata": {},
   "source": [
    "# Model Architecture"
   ]
  },
  {
   "cell_type": "code",
   "execution_count": 2,
   "metadata": {},
   "outputs": [],
   "source": [
    "architecture_config = [\n",
    "    #Tuple: (kernel_size, number_of_filters, strides, padding)\n",
    "    # \"M\": Max Pool Layer\n",
    "    (7, 64, 2, 3),\n",
    "    \"M\",\n",
    "    (3, 192, 1, 1),\n",
    "    \"M\",\n",
    "    (1, 128, 1, 1),\n",
    "    (3, 256, 1, 1),\n",
    "    (1, 256, 1, 0),\n",
    "    (3, 512, 1, 1),\n",
    "    \"M\",\n",
    "    #List: [(tuple), (tuple), how many times to repeat]\n",
    "    [(1, 256, 1, 0), (3, 512, 1, 1), 4],\n",
    "    (1, 512, 1, 0),\n",
    "    (3, 1024, 1, 1),\n",
    "    \"M\",\n",
    "    [(1, 512, 1, 0), (3, 1024, 1, 1), 2],\n",
    "    (3, 1024, 1, 1),\n",
    "    (3, 1024, 2, 1),\n",
    "    (3, 1024, 1, 1),\n",
    "    (3, 1024, 1, 1),\n",
    "    #Doesn't include FC layers\n",
    "]"
   ]
  },
  {
   "cell_type": "code",
   "execution_count": 3,
   "metadata": {},
   "outputs": [],
   "source": [
    "class CNNBlock(nn.Module):\n",
    "    def __init__(self, in_channels, out_channels, **kwargs):\n",
    "        super(CNNBlock, self).__init__()\n",
    "        self.conv = nn.Conv2d(in_channels, out_channels, bias=False, **kwargs)\n",
    "        self.batchnorm = nn.BatchNorm2d(out_channels)\n",
    "        self.leakyrelu = nn.LeakyReLu(0.1)\n",
    "    \n",
    "    def forward(self, x):\n",
    "        return self.leakyrelu(self.batchnorm(self.conv(x)))\n",
    "\n",
    "class YoloV1(nn.Module):\n",
    "    def __init___(self, in_channels=3, **kwargs):\n",
    "        super(YoloV1, self).__init__()\n",
    "        self.architecture = architecture_config\n",
    "        self.in_channels = in_channels\n",
    "        self.darknet = self._create_conv_layers(self.architecture)\n",
    "        self.fcs = self._create_fcs(**kwargs)\n",
    "\n",
    "    def forward(self, x):\n",
    "        x = self.darknet(x)\n",
    "        return self.fcs(torch.flatten(x, start_dim=1))\n",
    "\n",
    "    def _create_conv_layers(self, architecture):\n",
    "        layers = []\n",
    "        in_channels = self.in_channels\n",
    "\n",
    "        for x in architecture:\n",
    "            if type(x) == tuple:\n",
    "                layers+= [CNNBlock(in_channels, x[1], kernel_size=x[0], stride=x[2], padding=x[3])]\n",
    "                in_channels = x[1]\n",
    "            elif type(x) == str:\n",
    "                layers+= [nn.MaxPool2d(kernel_size=2, stride=2)]\n",
    "            elif type(x) == list:\n",
    "                conv1 = x[0] #tuple\n",
    "                conv2 = x[1] #tuple\n",
    "                repeats = x[2] #int\n",
    "\n",
    "                for _ in range(repeats):\n",
    "                    layers+=[CNNBlock(in_channels, conv1[1], kernel_size=conv1[0], stride=conv1[2], padding=conv1[3])]\n",
    "                    layers+=[CNNBlock(conv1[1], conv2[1], kernel_size=conv2[0], stride=conv2[2], padding=conv2[3])]\n",
    "                    in_channels=conv2[1]\n",
    "\n",
    "        return nn.Sequential(*layers)\n",
    "\n",
    "    def _create_fcs(self, split_size, num_boxes, num_classes):\n",
    "        S, B, C = split_size, num_boxes, num_classes\n",
    "        return nn.Sequential(nn.Flatten(), nn.Linear(1024*S*S, 496), nn.Dropout(0.0), nn.LeakyReLU(0.1), nn.Linear(496, S*S*(C+B*5)))"
   ]
  },
  {
   "cell_type": "markdown",
   "metadata": {},
   "source": [
    "# Utility Functions"
   ]
  },
  {
   "cell_type": "markdown",
   "metadata": {},
   "source": [
    "## Intersection over Union"
   ]
  },
  {
   "cell_type": "code",
   "execution_count": 5,
   "metadata": {},
   "outputs": [],
   "source": [
    "def intersection_over_union(boxes_preds, boxes_labels, box_format = 'midpoint'):\n",
    "    \"\"\"\n",
    "    Calculates Intersection over union\n",
    "\n",
    "    Parameters:\n",
    "        boxes_preds (tensor): Prediction of Bounding boxes(BATCH_SIZE, 4)\n",
    "        boxes_labels (tensor): Correct labels of Bounding Boxes (BATCH_SIZE, 4)\n",
    "        box_format (str): midpoint/corners, if boxes are (x,y,w,h) or (x1,y1,x2,y2) respectively\n",
    "\n",
    "    Returns:\n",
    "        tensor: Intersection over union for all examples\n",
    "    \"\"\"\n",
    "    # boxes_preds shape is (N,4) where N is the number of predicted bboxes\n",
    "    # boxes_labels shape is (n, 4)\n",
    "\n",
    "    if box_format == \"midpoint\":\n",
    "        box1_x1 = boxes_preds[...,0:1] - boxes_preds[...,2:3] / 2\n",
    "        box1_y1 = boxes_preds[...,1:2] - boxes_preds[...,3:4] / 2\n",
    "        box1_x2 = boxes_preds[...,0:1] + boxes_preds[...,2:3] / 2\n",
    "        box1_y2 = boxes_preds[...,1:2] + boxes_preds[...,3:4] / 2\n",
    "\n",
    "        box2_x1 = boxes_labels[...,0:1] - boxes_labels[...,2:3] / 2\n",
    "        box2_y1 = boxes_labels[...,1:2] - boxes_labels[...,3:4] / 2\n",
    "        box2_x2 = boxes_labels[...,0:1] + boxes_labels[...,2:3] / 2\n",
    "        box2_y2 = boxes_labels[...,1:2] + boxes_labels[...,3:4] / 2\n",
    "\n",
    "    if box_format == \"corners\":\n",
    "        box1_x1 = boxes_preds[...,0:1]\n",
    "        box1_y1 = boxes_preds[...,1:2]\n",
    "        box1_x2 = boxes_preds[...,2:3]\n",
    "        box1_y2 = boxes_preds[...,3:4] #output tensor should (N,1). If we only use 3, we go to (N)\n",
    "\n",
    "        box2_x1 = boxes_labels[...,0:1]\n",
    "        box2_y1 = boxes_labels[...,1:2]\n",
    "        box2_x2 = boxes_labels[...,2:3]\n",
    "        box2_y2 = boxes_labels[...,3:4]\n",
    "\n",
    "    \n",
    "    x1 = torch.max(box1_x1, box2_x1)\n",
    "    y1 = torch.max(box1_y1, box2_y1)\n",
    "    x2 = torch.max(box1_x2, box2_x2)\n",
    "    y2 = torch.max(box1_y2, box2_y2)\n",
    "\n",
    "    # .clamp(0) is for the case when they don't intersect. Since when they don't intersect one of these will be negetive so they should become 0\n",
    "    intersection = (x2 - x1).clamp(0) * (y2-y1).clamp(0)\n",
    "\n",
    "    box1_area = abs((box1_x2- box1_x1)*(box1_y2-box1_y1))\n",
    "    box2_area = abs((box2_x2- box2_x1)*(box2_y2-box2_y1))\n",
    "\n",
    "    return intersection / (box1_area + box2_area - intersection + 1e-6)"
   ]
  },
  {
   "cell_type": "code",
   "execution_count": null,
   "metadata": {},
   "outputs": [],
   "source": []
  }
 ],
 "metadata": {
  "kernelspec": {
   "display_name": "YoloV1",
   "language": "python",
   "name": "python3"
  },
  "language_info": {
   "codemirror_mode": {
    "name": "ipython",
    "version": 3
   },
   "file_extension": ".py",
   "mimetype": "text/x-python",
   "name": "python",
   "nbconvert_exporter": "python",
   "pygments_lexer": "ipython3",
   "version": "3.8.20"
  }
 },
 "nbformat": 4,
 "nbformat_minor": 2
}
